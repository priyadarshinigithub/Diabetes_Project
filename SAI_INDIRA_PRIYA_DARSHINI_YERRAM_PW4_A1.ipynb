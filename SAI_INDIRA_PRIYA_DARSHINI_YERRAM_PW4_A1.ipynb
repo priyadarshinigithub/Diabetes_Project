{
  "cells": [
    {
      "cell_type": "markdown",
      "metadata": {
        "id": "view-in-github",
        "colab_type": "text"
      },
      "source": [
        "<a href=\"https://colab.research.google.com/github/priyadarshinigithub/Diabetes_Project/blob/main/SAI_INDIRA_PRIYA_DARSHINI_YERRAM_PW4_A1.ipynb\" target=\"_parent\"><img src=\"https://colab.research.google.com/assets/colab-badge.svg\" alt=\"Open In Colab\"/></a>"
      ]
    },
    {
      "cell_type": "markdown",
      "metadata": {
        "deletable": false,
        "editable": false,
        "nbgrader": {
          "cell_type": "markdown",
          "checksum": "b6ea33039feb489212b24d025a5d36c1",
          "grade": false,
          "grade_id": "cell-0a1cd97d29171e27",
          "locked": true,
          "schema_version": 3,
          "solution": false,
          "task": false
        },
        "id": "2rDcgY7CFgSm"
      },
      "source": [
        "# Rules:\n",
        "    1. Follow the given instructions strictly as the assignment will be automatically rejected if not done so.\n",
        "    2. After you are done answering the questions, save the notebook in .ipynb format and rename it as so;\n",
        "        \n",
        "        <<Your name as visible on 'My Courses' page>>_PW4-A1.ipynb\n",
        "        \n",
        "    3. After renaming the file as above submit onto the platform."
      ]
    },
    {
      "cell_type": "markdown",
      "metadata": {
        "deletable": false,
        "editable": false,
        "nbgrader": {
          "cell_type": "markdown",
          "checksum": "a0155365d3cc9d108e399181af076e75",
          "grade": false,
          "grade_id": "cell-39806162dd625703",
          "locked": true,
          "schema_version": 3,
          "solution": false,
          "task": false
        },
        "id": "RJFzbg-hFgSs"
      },
      "source": [
        "# Python W4 - Assignment 01"
      ]
    },
    {
      "cell_type": "markdown",
      "metadata": {
        "deletable": false,
        "editable": false,
        "nbgrader": {
          "cell_type": "markdown",
          "checksum": "71f0638b16beff7c4a42be8800d743fc",
          "grade": false,
          "grade_id": "Q1",
          "locked": true,
          "schema_version": 3,
          "solution": false,
          "task": false
        },
        "id": "ujqm-AOiFgSt"
      },
      "source": [
        "\n",
        "## Marks Grading\n",
        "\n",
        "Write the function body for the `ans1(a)` function which takes in the marks (between 0 to 100) of a student and then returns their grade according to the following logic;\n",
        "\n",
        "- marks>=90 - A Grade\n",
        "- 80<=marks<90 - B Grade\n",
        "- 70<=marks<80 - C Grade\n",
        "- 60<=marks<70 - D Grade\n",
        "- 50<=marks<60 - E Grade\n",
        "- marks<50 - F Grade\n",
        "\n",
        "\n",
        "Instructions:\n",
        "- Enter your solution in the cell block below only. Double click to edit.\n",
        "- Do not edit anything else apart from 'YOUR ANSWER HERE' for your solution"
      ]
    },
    {
      "cell_type": "code",
      "execution_count": 1,
      "metadata": {
        "deletable": false,
        "nbgrader": {
          "cell_type": "code",
          "checksum": "69b460bd80a08199bc61740120c714a7",
          "grade": false,
          "grade_id": "A1",
          "locked": false,
          "schema_version": 3,
          "solution": true,
          "task": false
        },
        "id": "GrrUQsAEFgSu",
        "colab": {
          "base_uri": "https://localhost:8080/"
        },
        "outputId": "e0b7adf7-4e34-45e5-8a96-b42ee84a03c0"
      },
      "outputs": [
        {
          "output_type": "stream",
          "name": "stdout",
          "text": [
            "70\n",
            "80\n",
            "79\n",
            "90\n",
            "95\n",
            "Your Grade is B\n"
          ]
        }
      ],
      "source": [
        "def ans1(a):\n",
        "    '''\n",
        "    a: Integer type representing marks of the student\n",
        "    Should return the letter grade ONLY.\n",
        "    Ex: ans1(70) returns: C\n",
        "    '''\n",
        "    # YOUR CODE HERE\n",
        "    print(\"Enter Marks Obtained in 5 Subjects: \")\n",
        "markOne = int(input())\n",
        "markTwo = int(input())\n",
        "markThree = int(input())\n",
        "markFour = int(input())\n",
        "markFive = int(input())\n",
        "\n",
        "tot = markOne+markTwo+markThree+markFour+markFive\n",
        "avg = tot/5\n",
        "\n",
        "if avg>=90 and avg<=100:\n",
        "    print(\"Your Grade is A\")\n",
        "elif avg>=80 and avg<90:\n",
        "    print(\"Your Grade is B\")\n",
        "elif avg>=70 and avg<80:\n",
        "    print(\"Your Grade is C\")\n",
        "elif avg>=60 and avg<70:\n",
        "    print(\"Your Grade is D\")\n",
        "elif avg>=50 and avg<60:\n",
        "    print(\"Your Grade is E\")\n",
        "elif avg<50 :\n",
        "    print(\"Your Grade is F\")\n",
        "else:\n",
        "    print(\"Invalid Input!\")\n",
        "    "
      ]
    },
    {
      "cell_type": "code",
      "execution_count": null,
      "metadata": {
        "deletable": false,
        "editable": false,
        "nbgrader": {
          "cell_type": "code",
          "checksum": "8f734f668fe4d0b873c3a2c646175a0c",
          "grade": true,
          "grade_id": "cell-e026d20a5b3c7d5d",
          "locked": true,
          "points": 1,
          "schema_version": 3,
          "solution": false,
          "task": false
        },
        "id": "N6HZyx0JFgSw"
      },
      "outputs": [],
      "source": [
        ""
      ]
    },
    {
      "cell_type": "code",
      "execution_count": null,
      "metadata": {
        "deletable": false,
        "editable": false,
        "nbgrader": {
          "cell_type": "code",
          "checksum": "eac05f55af24ef036be718ea50a5abc5",
          "grade": false,
          "grade_id": "cell-bdbb11386adf6c13",
          "locked": true,
          "schema_version": 3,
          "solution": false,
          "task": false
        },
        "id": "b_S-3E0PFgSw"
      },
      "outputs": [],
      "source": [
        ""
      ]
    },
    {
      "cell_type": "markdown",
      "metadata": {
        "deletable": false,
        "editable": false,
        "nbgrader": {
          "cell_type": "markdown",
          "checksum": "d6235f925bf19a75656ef2f21d0e2798",
          "grade": false,
          "grade_id": "Q21",
          "locked": true,
          "points": 0,
          "schema_version": 3,
          "solution": false,
          "task": true
        },
        "id": "QPfhbD5VFgSw"
      },
      "source": [
        "## Total rainfall\n",
        "\n",
        "Write a function below which takes the following as inputs;\n",
        "\n",
        "- Line 1 \n",
        "    - Gives the number of days to be recorded\n",
        "    \n",
        "- Subsequent lines contain the rainfall measurements for each day seperated by spaces and terminated by -1, till the given number of days above.\n",
        "\n",
        "Output would be the sum of all the rainfall measured in that particular day.\n",
        "    \n",
        "Example:\n",
        "\n",
        "Sample input for 3 days:\\\n",
        "`\n",
        "3\n",
        "10 15 19 5 -1\n",
        "12 13 31 -1\n",
        "57 32 85 47 82 -1\n",
        "`\n",
        "\n",
        "Sample Output:\\\n",
        "`\n",
        "49\n",
        "56\n",
        "30\n",
        "`"
      ]
    },
    {
      "cell_type": "code",
      "execution_count": null,
      "metadata": {
        "deletable": false,
        "nbgrader": {
          "cell_type": "code",
          "checksum": "846f240f662de495d6f07bf07330492b",
          "grade": true,
          "grade_id": "cell-e2dac2e6767a1872",
          "locked": false,
          "points": 1,
          "schema_version": 3,
          "solution": true,
          "task": false
        },
        "id": "HQVBEZeWFgSx"
      },
      "outputs": [],
      "source": [
        "# YOUR CODE HERE"
      ]
    },
    {
      "cell_type": "code",
      "execution_count": null,
      "metadata": {
        "deletable": false,
        "editable": false,
        "nbgrader": {
          "cell_type": "code",
          "checksum": "4eaf74570e36cd74af3f4f63ccd76cd4",
          "grade": false,
          "grade_id": "cell-0e8738718a5c7212",
          "locked": true,
          "schema_version": 3,
          "solution": false,
          "task": false
        },
        "id": "QhgLjDhbFgSx"
      },
      "outputs": [],
      "source": [
        ""
      ]
    },
    {
      "cell_type": "markdown",
      "metadata": {
        "deletable": false,
        "editable": false,
        "nbgrader": {
          "cell_type": "markdown",
          "checksum": "4d343c4bba06e235a38ea05ac542dc0a",
          "grade": false,
          "grade_id": "cell-20cc93fef013c61c",
          "locked": true,
          "schema_version": 3,
          "solution": false,
          "task": false
        },
        "id": "ro8n8y33FgSy"
      },
      "source": [
        "## Collatz function\n",
        "\n",
        "The `Collatz` function is defined for a positive integer n as follows;\n",
        "\n",
        "- f(n)= 3n+1 if n is odd\n",
        "- f(n)= n/2 if n is even\n",
        "\n",
        "We consider the repeated application if the above function starting with a given integer `n`, as follows;\n",
        "\n",
        "`f(n),f(f(n)),f(f(f(n))),......`\n",
        "\n",
        "It is conjenctured that no matter which positive integer `n` you start from, the sequence will always end up at 1.\n",
        "\n",
        "Write the function body for `ans3(n)` which outputs the number of times `Collatz` function `f` had to be applied in order to first reach `1`."
      ]
    },
    {
      "cell_type": "code",
      "execution_count": 6,
      "metadata": {
        "ExecuteTime": {
          "end_time": "2021-12-09T11:06:23.599977Z",
          "start_time": "2021-12-09T11:06:23.577069Z"
        },
        "deletable": false,
        "nbgrader": {
          "cell_type": "code",
          "checksum": "3e6f87a27f192fe1885fa00f9b6c7e3c",
          "grade": false,
          "grade_id": "cell-3a161eba374a74ec",
          "locked": false,
          "schema_version": 3,
          "solution": true,
          "task": false
        },
        "id": "9TRYSFWVFgSz"
      },
      "outputs": [],
      "source": [
        "def ans3(n):\n",
        "    '''\n",
        "    n: Number to start the collatz funciton from.\n",
        "    Should return a number ONLY.\n",
        "    Ex: ans3(7) returns: 16\n",
        "    '''\n",
        "    # YOUR CODE HERE\n",
        "    def printCollatz(n):\n",
        "      while n != 1:\n",
        "        print(n, end = ' ')\n",
        " \n",
        "        if n & 1:\n",
        "            n = 3 * n + 1\n",
        " \n",
        "        else:\n",
        "            n = n // 2\n",
        "    print(n)\n",
        " \n",
        "\n",
        "    printCollatz(6)\n",
        "    raise NotImplementedError()"
      ]
    },
    {
      "cell_type": "code",
      "execution_count": null,
      "metadata": {
        "deletable": false,
        "editable": false,
        "nbgrader": {
          "cell_type": "code",
          "checksum": "c99be3557b8ce329d77957678d41a5fe",
          "grade": true,
          "grade_id": "cell-98837479d965fec1",
          "locked": true,
          "points": 1,
          "schema_version": 3,
          "solution": false,
          "task": false
        },
        "id": "CQZ_SoUZFgSz"
      },
      "outputs": [],
      "source": [
        ""
      ]
    },
    {
      "cell_type": "code",
      "execution_count": null,
      "metadata": {
        "deletable": false,
        "editable": false,
        "nbgrader": {
          "cell_type": "code",
          "checksum": "10f6c2040dd1c594e8599cbc9dff3b46",
          "grade": false,
          "grade_id": "cell-2f331d7d2c7bdcdc",
          "locked": true,
          "schema_version": 3,
          "solution": false,
          "task": false
        },
        "id": "6M4hB5hlFgS0"
      },
      "outputs": [],
      "source": [
        ""
      ]
    },
    {
      "cell_type": "markdown",
      "metadata": {
        "deletable": false,
        "editable": false,
        "nbgrader": {
          "cell_type": "markdown",
          "checksum": "37a87d29b1e3b68fa6177c7da704e3f3",
          "grade": false,
          "grade_id": "cell-a13189a026c3771d",
          "locked": true,
          "schema_version": 3,
          "solution": false,
          "task": false
        },
        "id": "hV7TTyX1FgS0"
      },
      "source": [
        "## Match the following:\n",
        "\n",
        "A) OOP\\\n",
        "B) Unordered, no duplicates, mutable\\\n",
        "C) Blueprint\\\n",
        "D) Over Loading\\\n",
        "E) Class methods\n",
        "\n",
        "I. Python functions\\\n",
        "II. Classes\\\n",
        "III. Dictionary\\\n",
        "IV. Focuses on data and functions\\\n",
        "V. None"
      ]
    },
    {
      "cell_type": "markdown",
      "metadata": {
        "deletable": false,
        "nbgrader": {
          "cell_type": "markdown",
          "checksum": "1a0107d547bbc31ea16076f863855b96",
          "grade": true,
          "grade_id": "cell-5b0ec5b5f53b7705",
          "locked": false,
          "points": 1,
          "schema_version": 3,
          "solution": true,
          "task": false
        },
        "id": "Y9impTIeFgS1"
      },
      "source": [
        "YOUR ANSWER HERE"
      ]
    },
    {
      "cell_type": "markdown",
      "source": [
        "A-I  ,B-II  ,C-IV  ,D-V  ,E-III  "
      ],
      "metadata": {
        "id": "uSLgtO6YnZsy"
      }
    },
    {
      "cell_type": "code",
      "source": [
        ""
      ],
      "metadata": {
        "id": "MjMJTZDxnY5h"
      },
      "execution_count": null,
      "outputs": []
    },
    {
      "cell_type": "markdown",
      "metadata": {
        "deletable": false,
        "editable": false,
        "nbgrader": {
          "cell_type": "markdown",
          "checksum": "6a6fd1728aef4c5c13d8703b4fc3b0fd",
          "grade": false,
          "grade_id": "cell-6975b5c3cd3b6be9",
          "locked": true,
          "schema_version": 3,
          "solution": false,
          "task": false
        },
        "id": "NocKwYPcFgS1"
      },
      "source": [
        "## RegEx\n",
        "\n",
        "Answer the following sub-questions using the following instructions;\n",
        "\n",
        "- Enter your solution in the cell block below only.\n",
        "- Do not edit anything else apart from 'YOUR CODE HERE' for your solution"
      ]
    },
    {
      "cell_type": "code",
      "execution_count": 7,
      "metadata": {
        "ExecuteTime": {
          "end_time": "2021-12-09T11:23:09.823219Z",
          "start_time": "2021-12-09T11:23:09.795975Z"
        },
        "id": "2G8HGtQoFgS3"
      },
      "outputs": [],
      "source": [
        "#Run this code cell before proceeding to answer the questions below\n",
        "import re"
      ]
    },
    {
      "cell_type": "markdown",
      "metadata": {
        "deletable": false,
        "editable": false,
        "nbgrader": {
          "cell_type": "markdown",
          "checksum": "4d96d161ff9b32d74930f8901da912bf",
          "grade": false,
          "grade_id": "cell-ca20f62538f5d9fe",
          "locked": true,
          "schema_version": 3,
          "solution": false,
          "task": false
        },
        "id": "N1tC4EV6FgS3"
      },
      "source": [
        "### Write a regex program that matches a string that has an 'a' followed by two or three 'b'."
      ]
    },
    {
      "cell_type": "code",
      "execution_count": 8,
      "metadata": {
        "deletable": false,
        "nbgrader": {
          "cell_type": "code",
          "checksum": "bd89674e9483548d9a2e18a300cf415e",
          "grade": false,
          "grade_id": "cell-618c4367ee98ea41",
          "locked": false,
          "schema_version": 3,
          "solution": true,
          "task": false
        },
        "id": "DpDG8DqpFgS4",
        "colab": {
          "base_uri": "https://localhost:8080/"
        },
        "outputId": "bb297112-7f77-4388-e7a8-df8a59251e78"
      },
      "outputs": [
        {
          "output_type": "stream",
          "name": "stdout",
          "text": [
            "Not matched!\n",
            "Found a match!\n"
          ]
        }
      ],
      "source": [
        "def ans5(text):\n",
        "    '''\n",
        "    text: String to check\n",
        "    Should return the 'True' if it's a match or 'False' if it's not a match.\n",
        "    '''\n",
        "    # YOUR CODE HERE\n",
        "    \n",
        "def text_match(text):\n",
        "        patterns = 'ab{2,3}'\n",
        "        if re.search(patterns,  text):\n",
        "                return 'Found a match!'\n",
        "        else:\n",
        "                return('Not matched!')\n",
        "print(text_match(\"ab\"))\n",
        "print(text_match(\"aabbbbbc\"))\n",
        "    "
      ]
    },
    {
      "cell_type": "code",
      "execution_count": null,
      "metadata": {
        "deletable": false,
        "editable": false,
        "nbgrader": {
          "cell_type": "code",
          "checksum": "242e4677c2da2c46c0ce9073dac0790a",
          "grade": true,
          "grade_id": "cell-6bad3621723a283c",
          "locked": true,
          "points": 1,
          "schema_version": 3,
          "solution": false,
          "task": false
        },
        "id": "k73qwVyjFgS4"
      },
      "outputs": [],
      "source": [
        ""
      ]
    },
    {
      "cell_type": "code",
      "execution_count": null,
      "metadata": {
        "deletable": false,
        "editable": false,
        "nbgrader": {
          "cell_type": "code",
          "checksum": "4dc1f05b349cdc8dce78d5268c39789d",
          "grade": false,
          "grade_id": "cell-a04a45a8ccb6f0e2",
          "locked": true,
          "schema_version": 3,
          "solution": false,
          "task": false
        },
        "id": "AH7KYxPsFgS5"
      },
      "outputs": [],
      "source": [
        ""
      ]
    },
    {
      "cell_type": "markdown",
      "metadata": {
        "deletable": false,
        "editable": false,
        "nbgrader": {
          "cell_type": "markdown",
          "checksum": "21a09376303e9383400bd73969bff690",
          "grade": false,
          "grade_id": "cell-c67370fdca58ea02",
          "locked": true,
          "schema_version": 3,
          "solution": false,
          "task": false
        },
        "id": "HtRPtFqaFgS5"
      },
      "source": [
        "### Write a regex program to separate the numbers and their position of a given string."
      ]
    },
    {
      "cell_type": "code",
      "execution_count": 11,
      "metadata": {
        "ExecuteTime": {
          "end_time": "2021-12-09T12:06:11.991363Z",
          "start_time": "2021-12-09T12:06:11.987381Z"
        },
        "deletable": false,
        "nbgrader": {
          "cell_type": "code",
          "checksum": "77ace12d44e526a1f60cb5913710d279",
          "grade": false,
          "grade_id": "cell-6712bc7acd0447cd",
          "locked": false,
          "schema_version": 3,
          "solution": true,
          "task": false
        },
        "id": "EyW4tb8sFgS5",
        "colab": {
          "base_uri": "https://localhost:8080/"
        },
        "outputId": "a3e9efb8-daa9-4183-8b9e-9604dc1cb25c"
      },
      "outputs": [
        {
          "output_type": "stream",
          "name": "stdout",
          "text": [
            "50\n",
            "Index position: 62\n"
          ]
        }
      ],
      "source": [
        "def ans6(string):\n",
        "    '''\n",
        "    Should return a tuple containing two elements ONLY\n",
        "    First tuple element should be a list of numbers in the given string.\n",
        "    Second tuple element should be a list of indices of the corresponding numbers found in the first tuple element.\n",
        "    \n",
        "    Ex: ans6('The following example creates an ArrayList with a capacity of 50 elements. 4 elements are then added to the ArrayList and the ArrayList is trimmed accordingly.')\n",
        "        Output:\n",
        "            ([50,4],[62,75])\n",
        "    '''\n",
        "\n",
        "import re\n",
        "# Input.\n",
        "text = \"The following example creates an ArrayList with a capacity of 50 elements. Four elements are then added to the ArrayList and the ArrayList is trimmed accordingly.\"\n",
        "\n",
        "for m in re.finditer(\"\\d+\", text):\n",
        "    print(m.group(0))\n",
        "    print(\"Index position:\", m.start())"
      ]
    },
    {
      "cell_type": "code",
      "execution_count": null,
      "metadata": {
        "ExecuteTime": {
          "end_time": "2021-12-09T12:06:29.819140Z",
          "start_time": "2021-12-09T12:06:29.810119Z"
        },
        "deletable": false,
        "editable": false,
        "nbgrader": {
          "cell_type": "code",
          "checksum": "be87a8e64fa7142fea35fb8519422502",
          "grade": true,
          "grade_id": "cell-f2355a3832688a18",
          "locked": true,
          "points": 1,
          "schema_version": 3,
          "solution": false,
          "task": false
        },
        "id": "M5ZFMRJDFgS6"
      },
      "outputs": [],
      "source": [
        ""
      ]
    },
    {
      "cell_type": "code",
      "execution_count": null,
      "metadata": {
        "ExecuteTime": {
          "end_time": "2021-12-09T12:06:20.610641Z",
          "start_time": "2021-12-09T12:06:20.591646Z"
        },
        "deletable": false,
        "editable": false,
        "nbgrader": {
          "cell_type": "code",
          "checksum": "c327b494e862627b9795e6830bb4d8cf",
          "grade": false,
          "grade_id": "cell-1ed0df92c93f0c46",
          "locked": true,
          "schema_version": 3,
          "solution": false,
          "task": false
        },
        "id": "je3SUOEnFgS6"
      },
      "outputs": [],
      "source": [
        ""
      ]
    },
    {
      "cell_type": "markdown",
      "metadata": {
        "deletable": false,
        "editable": false,
        "nbgrader": {
          "cell_type": "markdown",
          "checksum": "eb115185142e3c9127630eb30d26b807",
          "grade": false,
          "grade_id": "cell-92ca610afd33f9db",
          "locked": true,
          "schema_version": 3,
          "solution": false,
          "task": false
        },
        "id": "NnEwcYqpFgS7"
      },
      "source": [
        "### Write a regex program to find the position of the first occurence of a substring from a given string."
      ]
    },
    {
      "cell_type": "code",
      "execution_count": 16,
      "metadata": {
        "deletable": false,
        "nbgrader": {
          "cell_type": "code",
          "checksum": "9bc83dd7017742fcfbe33e7951c7f25c",
          "grade": false,
          "grade_id": "cell-727679b52dfddfab",
          "locked": false,
          "schema_version": 3,
          "solution": true,
          "task": false
        },
        "id": "WPqqt-pLFgS7",
        "colab": {
          "base_uri": "https://localhost:8080/"
        },
        "outputId": "7040cf64-2012-4c7f-a7eb-e56d000292a9"
      },
      "outputs": [
        {
          "output_type": "stream",
          "name": "stdout",
          "text": [
            "Found \"is\" at 8:10\n",
            "Found \"is\" at 14:16\n"
          ]
        }
      ],
      "source": [
        "def ans7(string,substring):\n",
        "    '''\n",
        "    Should return the number of the index position of the starting of the first occurrence of given substring. If the string doesn't contain the substring then it returns -1.\n",
        "    Ex: ans7('allthereistoitis','is') returns: 9\n",
        "    '''\n",
        "    # YOUR CODE HERE\n",
        "import re\n",
        "text = 'allthereistoitis'\n",
        "pattern = 'is'\n",
        "for match in re.finditer(pattern, text):\n",
        "    s = match.start()\n",
        "    i = match.end()\n",
        "    print('Found \"%s\" at %d:%d' % (text[s:i], s, i))"
      ]
    },
    {
      "cell_type": "code",
      "execution_count": null,
      "metadata": {
        "deletable": false,
        "editable": false,
        "nbgrader": {
          "cell_type": "code",
          "checksum": "61ca6dd6704f13e1339390d7f033c4d2",
          "grade": true,
          "grade_id": "cell-39817ba05b788f61",
          "locked": true,
          "points": 2,
          "schema_version": 3,
          "solution": false,
          "task": false
        },
        "id": "91AK9l3xFgS8"
      },
      "outputs": [],
      "source": [
        ""
      ]
    },
    {
      "cell_type": "code",
      "execution_count": null,
      "metadata": {
        "deletable": false,
        "editable": false,
        "nbgrader": {
          "cell_type": "code",
          "checksum": "377f05ca084830f56fc8cf37c44ebf18",
          "grade": false,
          "grade_id": "cell-7d3a071987457a60",
          "locked": true,
          "schema_version": 3,
          "solution": false,
          "task": false
        },
        "id": "QeozVWEbFgS8"
      },
      "outputs": [],
      "source": [
        ""
      ]
    }
  ],
  "metadata": {
    "kernelspec": {
      "display_name": "Python 3 (ipykernel)",
      "language": "python",
      "name": "python3"
    },
    "language_info": {
      "codemirror_mode": {
        "name": "ipython",
        "version": 3
      },
      "file_extension": ".py",
      "mimetype": "text/x-python",
      "name": "python",
      "nbconvert_exporter": "python",
      "pygments_lexer": "ipython3",
      "version": "3.9.1"
    },
    "toc": {
      "base_numbering": 1,
      "nav_menu": {},
      "number_sections": true,
      "sideBar": true,
      "skip_h1_title": false,
      "title_cell": "Table of Contents",
      "title_sidebar": "Contents",
      "toc_cell": false,
      "toc_position": {},
      "toc_section_display": true,
      "toc_window_display": false
    },
    "varInspector": {
      "cols": {
        "lenName": 16,
        "lenType": 16,
        "lenVar": 40
      },
      "kernels_config": {
        "python": {
          "delete_cmd_postfix": "",
          "delete_cmd_prefix": "del ",
          "library": "var_list.py",
          "varRefreshCmd": "print(var_dic_list())"
        },
        "r": {
          "delete_cmd_postfix": ") ",
          "delete_cmd_prefix": "rm(",
          "library": "var_list.r",
          "varRefreshCmd": "cat(var_dic_list()) "
        }
      },
      "types_to_exclude": [
        "module",
        "function",
        "builtin_function_or_method",
        "instance",
        "_Feature"
      ],
      "window_display": false
    },
    "colab": {
      "name": "SAI INDIRA PRIYA DARSHINI YERRAM_PW4-A1.ipynb",
      "provenance": [],
      "collapsed_sections": [],
      "include_colab_link": true
    }
  },
  "nbformat": 4,
  "nbformat_minor": 0
}